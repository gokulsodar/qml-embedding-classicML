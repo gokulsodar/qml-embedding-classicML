{
 "cells": [
  {
   "cell_type": "code",
   "execution_count": 319,
   "metadata": {},
   "outputs": [],
   "source": [
    "import pandas as pd\n",
    "import numpy as np\n",
    "import socket\n",
    "import struct\n",
    "import pennylane as qml\n",
    "import base64\n",
    "from sklearn.model_selection import train_test_split\n",
    "from sklearn.svm import SVC\n",
    "from sklearn.decomposition import PCA\n",
    "from sklearn.linear_model import LogisticRegression\n",
    "from sklearn.neighbors import KNeighborsClassifier\n",
    "from sklearn.preprocessing import LabelEncoder\n",
    "from sklearn.tree import DecisionTreeClassifier\n",
    "from statsmodels.stats.outliers_influence import variance_inflation_factor\n",
    "from sklearn.ensemble import (RandomForestClassifier, AdaBoostClassifier, \n",
    "                            ExtraTreesClassifier, GradientBoostingClassifier)\n",
    "from lightgbm import LGBMClassifier\n",
    "from xgboost import XGBClassifier\n",
    "\n",
    "from pathlib import Path\n",
    "import json\n",
    "from collections import defaultdict\n",
    "from imblearn.under_sampling import RandomUnderSampler\n",
    "from sklearn.metrics import precision_recall_fscore_support, accuracy_score, roc_auc_score"
   ]
  },
  {
   "cell_type": "code",
   "execution_count": 320,
   "metadata": {},
   "outputs": [
    {
     "data": {
      "text/plain": [
       "(14651, 24)"
      ]
     },
     "execution_count": 320,
     "metadata": {},
     "output_type": "execute_result"
    }
   ],
   "source": [
    "df = pd.read_csv(r\"data-30s.csv\")\n",
    "df.shape\n"
   ]
  },
  {
   "cell_type": "code",
   "execution_count": 321,
   "metadata": {},
   "outputs": [
    {
     "name": "stdout",
     "output_type": "stream",
     "text": [
      "<class 'pandas.core.frame.DataFrame'>\n",
      "RangeIndex: 14651 entries, 0 to 14650\n",
      "Data columns (total 24 columns):\n",
      " #   Column              Non-Null Count  Dtype  \n",
      "---  ------              --------------  -----  \n",
      " 0   duration            14651 non-null  float64\n",
      " 1   total_fiat          14651 non-null  float64\n",
      " 2   total_biat          14651 non-null  float64\n",
      " 3   min_fiat            14651 non-null  float64\n",
      " 4   min_biat            14651 non-null  float64\n",
      " 5   max_fiat            14651 non-null  float64\n",
      " 6   max_biat            14651 non-null  float64\n",
      " 7   mean_fiat           14651 non-null  float64\n",
      " 8   mean_biat           14651 non-null  float64\n",
      " 9   flowPktsPerSecond   14651 non-null  float64\n",
      " 10  flowBytesPerSecond  14651 non-null  float64\n",
      " 11  min_flowiat         14651 non-null  float64\n",
      " 12  max_flowiat         14651 non-null  float64\n",
      " 13  mean_flowiat        14651 non-null  float64\n",
      " 14  std_flowiat         14651 non-null  float64\n",
      " 15  min_active          14651 non-null  float64\n",
      " 16  mean_active         14651 non-null  float64\n",
      " 17  max_active          14651 non-null  float64\n",
      " 18  std_active          14651 non-null  float64\n",
      " 19  min_idle            14651 non-null  float64\n",
      " 20  mean_idle           14651 non-null  float64\n",
      " 21  max_idle            14651 non-null  float64\n",
      " 22  std_idle            14651 non-null  float64\n",
      " 23  class1              14651 non-null  object \n",
      "dtypes: float64(23), object(1)\n",
      "memory usage: 2.7+ MB\n"
     ]
    }
   ],
   "source": [
    "df.info()"
   ]
  },
  {
   "cell_type": "code",
   "execution_count": 322,
   "metadata": {},
   "outputs": [
    {
     "data": {
      "text/plain": [
       "duration              0\n",
       "total_fiat            0\n",
       "total_biat            0\n",
       "min_fiat              0\n",
       "min_biat              0\n",
       "max_fiat              0\n",
       "max_biat              0\n",
       "mean_fiat             0\n",
       "mean_biat             0\n",
       "flowPktsPerSecond     0\n",
       "flowBytesPerSecond    0\n",
       "min_flowiat           0\n",
       "max_flowiat           0\n",
       "mean_flowiat          0\n",
       "std_flowiat           0\n",
       "min_active            0\n",
       "mean_active           0\n",
       "max_active            0\n",
       "std_active            0\n",
       "min_idle              0\n",
       "mean_idle             0\n",
       "max_idle              0\n",
       "std_idle              0\n",
       "class1                0\n",
       "dtype: int64"
      ]
     },
     "execution_count": 322,
     "metadata": {},
     "output_type": "execute_result"
    }
   ],
   "source": [
    "df.isnull().sum()\n"
   ]
  },
  {
   "cell_type": "code",
   "execution_count": 323,
   "metadata": {},
   "outputs": [],
   "source": [
    "le = LabelEncoder()\n",
    "df[\"class1\"] = le.fit_transform(df[\"class1\"])"
   ]
  },
  {
   "cell_type": "code",
   "execution_count": 324,
   "metadata": {},
   "outputs": [
    {
     "name": "stdout",
     "output_type": "stream",
     "text": [
      "<class 'pandas.core.frame.DataFrame'>\n",
      "RangeIndex: 14651 entries, 0 to 14650\n",
      "Data columns (total 24 columns):\n",
      " #   Column              Non-Null Count  Dtype  \n",
      "---  ------              --------------  -----  \n",
      " 0   duration            14651 non-null  float64\n",
      " 1   total_fiat          14651 non-null  float64\n",
      " 2   total_biat          14651 non-null  float64\n",
      " 3   min_fiat            14651 non-null  float64\n",
      " 4   min_biat            14651 non-null  float64\n",
      " 5   max_fiat            14651 non-null  float64\n",
      " 6   max_biat            14651 non-null  float64\n",
      " 7   mean_fiat           14651 non-null  float64\n",
      " 8   mean_biat           14651 non-null  float64\n",
      " 9   flowPktsPerSecond   14651 non-null  float64\n",
      " 10  flowBytesPerSecond  14651 non-null  float64\n",
      " 11  min_flowiat         14651 non-null  float64\n",
      " 12  max_flowiat         14651 non-null  float64\n",
      " 13  mean_flowiat        14651 non-null  float64\n",
      " 14  std_flowiat         14651 non-null  float64\n",
      " 15  min_active          14651 non-null  float64\n",
      " 16  mean_active         14651 non-null  float64\n",
      " 17  max_active          14651 non-null  float64\n",
      " 18  std_active          14651 non-null  float64\n",
      " 19  min_idle            14651 non-null  float64\n",
      " 20  mean_idle           14651 non-null  float64\n",
      " 21  max_idle            14651 non-null  float64\n",
      " 22  std_idle            14651 non-null  float64\n",
      " 23  class1              14651 non-null  int64  \n",
      "dtypes: float64(23), int64(1)\n",
      "memory usage: 2.7 MB\n"
     ]
    }
   ],
   "source": [
    "df.info()"
   ]
  },
  {
   "cell_type": "code",
   "execution_count": 325,
   "metadata": {},
   "outputs": [],
   "source": [
    "X = df.drop(columns=[\"class1\"])  # Features (all columns except 'class1')\n",
    "y = df[\"class1\"]  # Target label\n"
   ]
  },
  {
   "cell_type": "code",
   "execution_count": 326,
   "metadata": {},
   "outputs": [
    {
     "data": {
      "text/plain": [
       "(14651, 23)"
      ]
     },
     "execution_count": 326,
     "metadata": {},
     "output_type": "execute_result"
    }
   ],
   "source": [
    "X.shape"
   ]
  },
  {
   "cell_type": "code",
   "execution_count": 327,
   "metadata": {},
   "outputs": [],
   "source": [
    "# import pennylane as qml\n",
    "# n_features = X.shape[1]\n",
    "# N = int(np.ceil(np.log2(n_features)))\n",
    "# wires = range(N)\n",
    "# dev = qml.device('default.qubit', wires)    \n",
    "\n",
    "# @qml.qnode(dev)\n",
    "# def circuit(f=None):\n",
    "#     qml.AmplitudeEmbedding(f, wires=wires,pad_with=0,normalize=True)\n",
    "#     return qml.state()\n",
    "# X_norm = X.values\n",
    "# X_quantum = circuit(X_norm)\n",
    "# X_real = np.real(np.array(X_quantum))\n",
    "# # Create column names based on index\n",
    "# column_names = [f'feature_{i}' for i in range(X_real.shape[1])]\n",
    "# X_real = pd.DataFrame(X_real, columns=column_names)\n",
    "# X_real.shape\n",
    "\n"
   ]
  },
  {
   "cell_type": "code",
   "execution_count": null,
   "metadata": {},
   "outputs": [],
   "source": [
    "import pennylane as qml\n",
    "from pennylane import numpy as np\n",
    "\n",
    "N = X.shape[1]\n",
    "wires = range(N)\n",
    "dev = qml.device(\"default.qubit\", wires)\n",
    "\n",
    "@qml.qnode(dev)\n",
    "def circuit(val_list):\n",
    "    qml.AngleEmbedding(val_list, wires, rotation=\"Y\")\n",
    "    return [qml.expval(qml.PauliZ(w)) for w in wires]\n",
    "\n",
    "# Function to process DataFrame through quantum circuit\n",
    "def quantum_transform(df):\n",
    "    # Convert DataFrame to numpy array\n",
    "    values = df.values\n",
    "    # Process each row through quantum circuit\n",
    "    quantum_features = np.array([circuit(row) for row in values])\n",
    "    # Remove tensor properties and convert to regular numpy array\n",
    "    quantum_features = np.array(quantum_features).astype(float)\n",
    "    return quantum_features\n",
    "# Transform your data\n",
    "X_real = quantum_transform(X)\n",
    "\n",
    "quantum_cols = [f'quantum_state_{i}' for i in range(len(X_real[0]))]\n",
    "X_real = pd.DataFrame(X_real, columns=quantum_cols)\n",
    "X_real.head()\n"
   ]
  },
  {
   "cell_type": "code",
   "execution_count": null,
   "metadata": {},
   "outputs": [],
   "source": [
    "X_train, X_test, y_train, y_test = train_test_split(X_real, y, test_size=0.3, random_state=42)  "
   ]
  },
  {
   "cell_type": "code",
   "execution_count": 330,
   "metadata": {},
   "outputs": [],
   "source": [
    "import pennylane as qml\n",
    "\n",
    "# For X_train\n",
    "n_features_train = X_train.shape[1]\n",
    "N_train = int(np.ceil(np.log2(n_features_train)))\n",
    "wires = range(N_train)\n",
    "dev = qml.device('default.qubit', wires)\n",
    "\n",
    "@qml.qnode(dev)\n",
    "def circuit(f=None):\n",
    "    qml.AmplitudeEmbedding(f, wires=wires, pad_with=0, normalize=True)\n",
    "    return qml.state()\n",
    "\n",
    "X_train_norm = X_train.values\n",
    "X_train_quantum = circuit(X_train_norm)\n",
    "X_train = np.real(np.array(X_train_quantum))\n",
    "\n",
    "# For X_test\n",
    "n_features_test = X_test.shape[1]\n",
    "N_test = int(np.ceil(np.log2(n_features_test)))\n",
    "wires = range(N_test)\n",
    "dev = qml.device('default.qubit', wires)\n",
    "\n",
    "@qml.qnode(dev)\n",
    "def circuit(f=None):\n",
    "    qml.AmplitudeEmbedding(f, wires=wires, pad_with=0, normalize=True)\n",
    "    return qml.state()\n",
    "\n",
    "X_test_norm = X_test.values\n",
    "X_test_quantum = circuit(X_test_norm)\n",
    "X_test = np.real(np.array(X_test_quantum))\n"
   ]
  },
  {
   "cell_type": "code",
   "execution_count": 331,
   "metadata": {},
   "outputs": [],
   "source": [
    "\n",
    "# 6. Quantile Transformer (transforms to normal or uniform distribution)\n",
    "from sklearn.preprocessing import QuantileTransformer\n",
    "qt = QuantileTransformer(output_distribution='normal')\n",
    "X_train = qt.fit_transform(X_train)\n",
    "X_test = qt.transform(X_test)"
   ]
  },
  {
   "cell_type": "code",
   "execution_count": 332,
   "metadata": {},
   "outputs": [],
   "source": [
    "from sklearn.preprocessing import StandardScaler\n",
    "\n",
    "\n",
    "# Initialize the scaler\n",
    "scaler = StandardScaler()\n",
    "\n",
    "\n",
    "# Fit on training data only, then transform both train and test\n",
    "X_train = scaler.fit_transform(X_train)\n",
    "X_test = scaler.transform(X_test)\n",
    "\n",
    "# Convert to DataFrame with basic column names\n",
    "X_train = pd.DataFrame(X_train, columns=[f'feature_{i}' for i in range(X_train.shape[1])])\n",
    "X_test = pd.DataFrame(X_test, columns=[f'feature_{i}' for i in range(X_test.shape[1])])\n",
    "\n"
   ]
  },
  {
   "cell_type": "code",
   "execution_count": 333,
   "metadata": {},
   "outputs": [
    {
     "name": "stdout",
     "output_type": "stream",
     "text": [
      "Evaluating model: KNN\n",
      "Evaluating model: Random Forest\n",
      "Evaluating model: AdaBoost\n"
     ]
    },
    {
     "name": "stderr",
     "output_type": "stream",
     "text": [
      "c:\\Ananconda\\envs\\qml\\lib\\site-packages\\sklearn\\ensemble\\_weight_boosting.py:527: FutureWarning: The SAMME.R algorithm (the default) is deprecated and will be removed in 1.6. Use the SAMME algorithm to circumvent this warning.\n",
      "  warnings.warn(\n"
     ]
    },
    {
     "name": "stdout",
     "output_type": "stream",
     "text": [
      "Evaluating model: Extra Trees\n",
      "Evaluating model: XGBoost\n",
      "Evaluating model: LightGBM\n",
      "[LightGBM] [Info] Number of positive: 5426, number of negative: 4829\n",
      "[LightGBM] [Info] Auto-choosing col-wise multi-threading, the overhead of testing was 0.000439 seconds.\n",
      "You can set `force_col_wise=true` to remove the overhead.\n",
      "[LightGBM] [Info] Total Bins 5865\n",
      "[LightGBM] [Info] Number of data points in the train set: 10255, number of used features: 23\n",
      "[LightGBM] [Info] [binary:BoostFromScore]: pavg=0.529108 -> initscore=0.116563\n",
      "[LightGBM] [Info] Start training from score 0.116563\n",
      "Evaluating model: Gradient Boosting\n",
      "                        Model  Accuracy  Precision    Recall  F1 Score  \\\n",
      "0        KNeighborsClassifier  0.869199   0.857910  0.899913  0.878410   \n",
      "1      RandomForestClassifier  0.899909   0.883730  0.931976  0.907212   \n",
      "2          AdaBoostClassifier  0.796178   0.779051  0.853986  0.814800   \n",
      "3        ExtraTreesClassifier  0.897862   0.884886  0.925910  0.904933   \n",
      "4               XGBClassifier  0.905141   0.889255  0.935875  0.911970   \n",
      "5              LGBMClassifier  0.898772   0.884758  0.928076  0.905900   \n",
      "6  GradientBoostingClassifier  0.863967   0.840909  0.913778  0.875831   \n",
      "\n",
      "    ROC AUC  Cohen’s Kappa  Running Time (s)  \n",
      "0  0.935297       0.737064          0.296496  \n",
      "1  0.964000       0.798737          2.309121  \n",
      "2  0.870523       0.589252          1.133986  \n",
      "3  0.960826       0.794709          0.780040  \n",
      "4  0.968712       0.809279          0.216722  \n",
      "5  0.965541       0.796510          0.149221  \n",
      "6  0.936009       0.726001          4.898070  \n"
     ]
    }
   ],
   "source": [
    "import time\n",
    "import pandas as pd\n",
    "import numpy as np\n",
    "from sklearn.ensemble import RandomForestClassifier, AdaBoostClassifier, ExtraTreesClassifier, GradientBoostingClassifier\n",
    "from sklearn.svm import SVC\n",
    "from sklearn.neighbors import KNeighborsClassifier\n",
    "from sklearn.metrics import accuracy_score, classification_report, confusion_matrix, precision_score, recall_score, f1_score, roc_auc_score, cohen_kappa_score\n",
    "from sklearn.model_selection import train_test_split\n",
    "import xgboost as xgb\n",
    "import lightgbm as lgb\n",
    "import seaborn as sns\n",
    "import matplotlib.pyplot as plt\n",
    "# Create a dictionary of models to evaluate\n",
    "models = {\n",
    "    # \"SVM (Linear)\": SVC(kernel=\"linear\", random_state=42),\n",
    "    # \"SVM (Poly)\": SVC(kernel=\"poly\", random_state=42),\n",
    "    # \"SVM (RBF)\": SVC(kernel=\"rbf\", random_state=42),\n",
    "    # \"SVM (Sigmoid)\": SVC(kernel=\"sigmoid\", random_state=42),\n",
    "    \"KNN\": KNeighborsClassifier(),\n",
    "    \"Random Forest\": RandomForestClassifier(n_estimators=100, random_state=42),\n",
    "    \"AdaBoost\": AdaBoostClassifier(random_state=42),\n",
    "    \"Extra Trees\": ExtraTreesClassifier(n_estimators=100, random_state=42),\n",
    "    \"XGBoost\": xgb.XGBClassifier(random_state=42),\n",
    "    \"LightGBM\": lgb.LGBMClassifier(random_state=42),\n",
    "    \"Gradient Boosting\": GradientBoostingClassifier(random_state=42)\n",
    "}\n",
    "\n",
    "# Function to calculate metrics\n",
    "def evaluate_model(model, X_train, X_test, y_train, y_test):\n",
    "    start_time = time.time()  # Track model fitting time\n",
    "    \n",
    "    # Train the model\n",
    "    model.fit(X_train, y_train)\n",
    "    \n",
    "    # Predict\n",
    "    y_pred = model.predict(X_test)\n",
    "    y_proba = model.predict_proba(X_test)[:, 1] if hasattr(model, 'predict_proba') else None\n",
    "\n",
    "    # Get performance metrics\n",
    "    accuracy = accuracy_score(y_test, y_pred)\n",
    "    precision = precision_score(y_test, y_pred)\n",
    "    recall = recall_score(y_test, y_pred)\n",
    "    f1 = f1_score(y_test, y_pred)\n",
    "    roc_auc = roc_auc_score(y_test, y_proba) if y_proba is not None else None\n",
    "    cohen_kappa = cohen_kappa_score(y_test, y_pred)\n",
    "    \n",
    "    # Running time\n",
    "    end_time = time.time()\n",
    "    runtime = end_time - start_time\n",
    "    \n",
    "    # Detailed classification report\n",
    "    class_report = classification_report(y_test, y_pred)\n",
    "    \n",
    "    \n",
    "    # Return all metrics\n",
    "    return {\n",
    "        \"Model\": model.__class__.__name__,\n",
    "        \"Accuracy\": accuracy,\n",
    "        \"Precision\": precision,\n",
    "        \"Recall\": recall,\n",
    "        \"F1 Score\": f1,\n",
    "        \"ROC AUC\": roc_auc,\n",
    "        \"Cohen’s Kappa\": cohen_kappa,\n",
    "        \"Running Time (s)\": runtime,\n",
    "    }\n",
    "\n",
    "# Evaluating all models and storing results\n",
    "results = []\n",
    "\n",
    "for name, model in models.items():\n",
    "    print(f\"Evaluating model: {name}\")\n",
    "    result = evaluate_model(model, X_train, X_test, y_train, y_test)\n",
    "    results.append(result)\n",
    "\n",
    "# Convert results into a DataFrame\n",
    "results_df = pd.DataFrame(results)\n",
    "\n",
    "# Display all the results\n",
    "print(results_df)"
   ]
  },
  {
   "cell_type": "code",
   "execution_count": 334,
   "metadata": {},
   "outputs": [],
   "source": [
    "results_df.to_csv('data-30s_amp_preprocess.csv', index=False)\n"
   ]
  },
  {
   "cell_type": "code",
   "execution_count": 335,
   "metadata": {},
   "outputs": [
    {
     "data": {
      "text/html": [
       "<div>\n",
       "<style scoped>\n",
       "    .dataframe tbody tr th:only-of-type {\n",
       "        vertical-align: middle;\n",
       "    }\n",
       "\n",
       "    .dataframe tbody tr th {\n",
       "        vertical-align: top;\n",
       "    }\n",
       "\n",
       "    .dataframe thead th {\n",
       "        text-align: right;\n",
       "    }\n",
       "</style>\n",
       "<table border=\"1\" class=\"dataframe\">\n",
       "  <thead>\n",
       "    <tr style=\"text-align: right;\">\n",
       "      <th></th>\n",
       "      <th>Model</th>\n",
       "      <th>Accuracy</th>\n",
       "      <th>Precision</th>\n",
       "      <th>Recall</th>\n",
       "      <th>F1 Score</th>\n",
       "      <th>ROC AUC</th>\n",
       "      <th>Cohen’s Kappa</th>\n",
       "      <th>Running Time (s)</th>\n",
       "    </tr>\n",
       "  </thead>\n",
       "  <tbody>\n",
       "    <tr>\n",
       "      <th>0</th>\n",
       "      <td>KNeighborsClassifier</td>\n",
       "      <td>0.869199</td>\n",
       "      <td>0.857910</td>\n",
       "      <td>0.899913</td>\n",
       "      <td>0.878410</td>\n",
       "      <td>0.935297</td>\n",
       "      <td>0.737064</td>\n",
       "      <td>0.296496</td>\n",
       "    </tr>\n",
       "    <tr>\n",
       "      <th>1</th>\n",
       "      <td>RandomForestClassifier</td>\n",
       "      <td>0.899909</td>\n",
       "      <td>0.883730</td>\n",
       "      <td>0.931976</td>\n",
       "      <td>0.907212</td>\n",
       "      <td>0.964000</td>\n",
       "      <td>0.798737</td>\n",
       "      <td>2.309121</td>\n",
       "    </tr>\n",
       "    <tr>\n",
       "      <th>2</th>\n",
       "      <td>AdaBoostClassifier</td>\n",
       "      <td>0.796178</td>\n",
       "      <td>0.779051</td>\n",
       "      <td>0.853986</td>\n",
       "      <td>0.814800</td>\n",
       "      <td>0.870523</td>\n",
       "      <td>0.589252</td>\n",
       "      <td>1.133986</td>\n",
       "    </tr>\n",
       "    <tr>\n",
       "      <th>3</th>\n",
       "      <td>ExtraTreesClassifier</td>\n",
       "      <td>0.897862</td>\n",
       "      <td>0.884886</td>\n",
       "      <td>0.925910</td>\n",
       "      <td>0.904933</td>\n",
       "      <td>0.960826</td>\n",
       "      <td>0.794709</td>\n",
       "      <td>0.780040</td>\n",
       "    </tr>\n",
       "    <tr>\n",
       "      <th>4</th>\n",
       "      <td>XGBClassifier</td>\n",
       "      <td>0.905141</td>\n",
       "      <td>0.889255</td>\n",
       "      <td>0.935875</td>\n",
       "      <td>0.911970</td>\n",
       "      <td>0.968712</td>\n",
       "      <td>0.809279</td>\n",
       "      <td>0.216722</td>\n",
       "    </tr>\n",
       "    <tr>\n",
       "      <th>5</th>\n",
       "      <td>LGBMClassifier</td>\n",
       "      <td>0.898772</td>\n",
       "      <td>0.884758</td>\n",
       "      <td>0.928076</td>\n",
       "      <td>0.905900</td>\n",
       "      <td>0.965541</td>\n",
       "      <td>0.796510</td>\n",
       "      <td>0.149221</td>\n",
       "    </tr>\n",
       "    <tr>\n",
       "      <th>6</th>\n",
       "      <td>GradientBoostingClassifier</td>\n",
       "      <td>0.863967</td>\n",
       "      <td>0.840909</td>\n",
       "      <td>0.913778</td>\n",
       "      <td>0.875831</td>\n",
       "      <td>0.936009</td>\n",
       "      <td>0.726001</td>\n",
       "      <td>4.898070</td>\n",
       "    </tr>\n",
       "  </tbody>\n",
       "</table>\n",
       "</div>"
      ],
      "text/plain": [
       "                        Model  Accuracy  Precision    Recall  F1 Score  \\\n",
       "0        KNeighborsClassifier  0.869199   0.857910  0.899913  0.878410   \n",
       "1      RandomForestClassifier  0.899909   0.883730  0.931976  0.907212   \n",
       "2          AdaBoostClassifier  0.796178   0.779051  0.853986  0.814800   \n",
       "3        ExtraTreesClassifier  0.897862   0.884886  0.925910  0.904933   \n",
       "4               XGBClassifier  0.905141   0.889255  0.935875  0.911970   \n",
       "5              LGBMClassifier  0.898772   0.884758  0.928076  0.905900   \n",
       "6  GradientBoostingClassifier  0.863967   0.840909  0.913778  0.875831   \n",
       "\n",
       "    ROC AUC  Cohen’s Kappa  Running Time (s)  \n",
       "0  0.935297       0.737064          0.296496  \n",
       "1  0.964000       0.798737          2.309121  \n",
       "2  0.870523       0.589252          1.133986  \n",
       "3  0.960826       0.794709          0.780040  \n",
       "4  0.968712       0.809279          0.216722  \n",
       "5  0.965541       0.796510          0.149221  \n",
       "6  0.936009       0.726001          4.898070  "
      ]
     },
     "execution_count": 335,
     "metadata": {},
     "output_type": "execute_result"
    }
   ],
   "source": [
    "results_df\n"
   ]
  },
  {
   "cell_type": "code",
   "execution_count": 336,
   "metadata": {},
   "outputs": [
    {
     "name": "stdout",
     "output_type": "stream",
     "text": [
      "{np.int64(0): np.int64(6917), np.int64(1): np.int64(7734)}\n",
      "class1\n",
      "1    7734\n",
      "0    6917\n",
      "Name: count, dtype: int64\n"
     ]
    }
   ],
   "source": [
    "import numpy as np\n",
    "\n",
    "# Method 1: Using numpy unique with return_counts\n",
    "unique_values, counts = np.unique(y, return_counts=True)\n",
    "print(dict(zip(unique_values, counts)))\n",
    "\n",
    "# Method 2: Using value_counts if y is a pandas series\n",
    "print(pd.Series(y).value_counts())\n"
   ]
  }
 ],
 "metadata": {
  "kernelspec": {
   "display_name": "qml",
   "language": "python",
   "name": "python3"
  },
  "language_info": {
   "codemirror_mode": {
    "name": "ipython",
    "version": 3
   },
   "file_extension": ".py",
   "mimetype": "text/x-python",
   "name": "python",
   "nbconvert_exporter": "python",
   "pygments_lexer": "ipython3",
   "version": "3.9.20"
  }
 },
 "nbformat": 4,
 "nbformat_minor": 2
}

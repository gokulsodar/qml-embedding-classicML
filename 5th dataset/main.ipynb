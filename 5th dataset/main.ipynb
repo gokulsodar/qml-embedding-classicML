{
 "cells": [
  {
   "cell_type": "code",
   "execution_count": 1,
   "metadata": {},
   "outputs": [],
   "source": [
    "import pandas as pd\n",
    "import numpy as np\n",
    "import socket\n",
    "import struct\n",
    "import pennylane as qml\n",
    "import base64\n",
    "from sklearn.model_selection import train_test_split\n",
    "from sklearn.svm import SVC\n",
    "from sklearn.decomposition import PCA\n",
    "from sklearn.linear_model import LogisticRegression\n",
    "from sklearn.neighbors import KNeighborsClassifier\n",
    "from sklearn.tree import DecisionTreeClassifier\n",
    "from statsmodels.stats.outliers_influence import variance_inflation_factor\n",
    "from sklearn.ensemble import (RandomForestClassifier, AdaBoostClassifier, \n",
    "                            ExtraTreesClassifier, GradientBoostingClassifier)\n",
    "from lightgbm import LGBMClassifier\n",
    "from xgboost import XGBClassifier\n",
    "\n",
    "from pathlib import Path\n",
    "import json\n",
    "from collections import defaultdict\n",
    "from imblearn.under_sampling import RandomUnderSampler\n",
    "from sklearn.metrics import precision_recall_fscore_support, accuracy_score, roc_auc_score"
   ]
  },
  {
   "cell_type": "code",
   "execution_count": 2,
   "metadata": {},
   "outputs": [
    {
     "data": {
      "text/plain": [
       "(397595, 21)"
      ]
     },
     "execution_count": 2,
     "metadata": {},
     "output_type": "execute_result"
    }
   ],
   "source": [
    "df = pd.read_csv(r\"CSV\\TestbedThuJun17Flows.csv\")\n",
    "df.shape\n"
   ]
  },
  {
   "cell_type": "code",
   "execution_count": 3,
   "metadata": {},
   "outputs": [
    {
     "name": "stdout",
     "output_type": "stream",
     "text": [
      "<class 'pandas.core.frame.DataFrame'>\n",
      "RangeIndex: 397595 entries, 0 to 397594\n",
      "Data columns (total 21 columns):\n",
      " #   Column                          Non-Null Count   Dtype \n",
      "---  ------                          --------------   ----- \n",
      " 0   generated                       397595 non-null  object\n",
      " 1   appName                         397595 non-null  object\n",
      " 2   totalSourceBytes                397595 non-null  int64 \n",
      " 3   totalDestinationBytes           397595 non-null  int64 \n",
      " 4   totalDestinationPackets         397595 non-null  int64 \n",
      " 5   totalSourcePackets              397595 non-null  int64 \n",
      " 6   sourcePayloadAsBase64           187817 non-null  object\n",
      " 7   sourcePayloadAsUTF              187815 non-null  object\n",
      " 8   destinationPayloadAsBase64      180571 non-null  object\n",
      " 9   destinationPayloadAsUTF         180567 non-null  object\n",
      " 10  direction                       397595 non-null  object\n",
      " 11  sourceTCPFlagsDescription       328198 non-null  object\n",
      " 12  destinationTCPFlagsDescription  312094 non-null  object\n",
      " 13  source                          397595 non-null  object\n",
      " 14  protocolName                    397595 non-null  object\n",
      " 15  sourcePort                      397595 non-null  int64 \n",
      " 16  destination                     397595 non-null  object\n",
      " 17  destinationPort                 397595 non-null  int64 \n",
      " 18  startDateTime                   397595 non-null  object\n",
      " 19  stopDateTime                    397595 non-null  object\n",
      " 20  Label                           397595 non-null  object\n",
      "dtypes: int64(6), object(15)\n",
      "memory usage: 63.7+ MB\n"
     ]
    }
   ],
   "source": [
    "df.info()"
   ]
  },
  {
   "cell_type": "code",
   "execution_count": 4,
   "metadata": {},
   "outputs": [],
   "source": [
    "# Drop payload columns\n",
    "payload_columns = [\n",
    "    \"sourcePayloadAsBase64\", \"sourcePayloadAsUTF\",\n",
    "    \"destinationPayloadAsBase64\", \"destinationPayloadAsUTF\"\n",
    "]\n",
    "df.drop(columns=payload_columns, inplace=True)"
   ]
  },
  {
   "cell_type": "code",
   "execution_count": 5,
   "metadata": {},
   "outputs": [],
   "source": [
    "# Convert labels\n",
    "df[\"Label\"] = df[\"Label\"].map({\"Normal\": 0, \"Attack\": 1})"
   ]
  },
  {
   "cell_type": "code",
   "execution_count": 6,
   "metadata": {},
   "outputs": [
    {
     "name": "stdout",
     "output_type": "stream",
     "text": [
      "<class 'pandas.core.frame.DataFrame'>\n",
      "RangeIndex: 397595 entries, 0 to 397594\n",
      "Data columns (total 17 columns):\n",
      " #   Column                          Non-Null Count   Dtype \n",
      "---  ------                          --------------   ----- \n",
      " 0   generated                       397595 non-null  object\n",
      " 1   appName                         397595 non-null  object\n",
      " 2   totalSourceBytes                397595 non-null  int64 \n",
      " 3   totalDestinationBytes           397595 non-null  int64 \n",
      " 4   totalDestinationPackets         397595 non-null  int64 \n",
      " 5   totalSourcePackets              397595 non-null  int64 \n",
      " 6   direction                       397595 non-null  object\n",
      " 7   sourceTCPFlagsDescription       328198 non-null  object\n",
      " 8   destinationTCPFlagsDescription  312094 non-null  object\n",
      " 9   source                          397595 non-null  object\n",
      " 10  protocolName                    397595 non-null  object\n",
      " 11  sourcePort                      397595 non-null  int64 \n",
      " 12  destination                     397595 non-null  object\n",
      " 13  destinationPort                 397595 non-null  int64 \n",
      " 14  startDateTime                   397595 non-null  object\n",
      " 15  stopDateTime                    397595 non-null  object\n",
      " 16  Label                           397595 non-null  int64 \n",
      "dtypes: int64(7), object(10)\n",
      "memory usage: 51.6+ MB\n"
     ]
    }
   ],
   "source": [
    "df.info()"
   ]
  },
  {
   "cell_type": "code",
   "execution_count": 7,
   "metadata": {},
   "outputs": [],
   "source": [
    "# Select numeric features\n",
    "numeric_cols = df.select_dtypes(include=['int64']).columns\n",
    "X = df[numeric_cols].drop(columns=\"Label\")\n",
    "y = df['Label']\n"
   ]
  },
  {
   "cell_type": "code",
   "execution_count": 8,
   "metadata": {},
   "outputs": [],
   "source": [
    "import pennylane as qml\n",
    "n_features = X.shape[1]\n",
    "N = int(np.ceil(np.log2(n_features)))\n",
    "wires = range(N)\n",
    "dev = qml.device('default.qubit', wires)    \n",
    "\n",
    "@qml.qnode(dev)\n",
    "def circuit(f=None):\n",
    "    qml.AmplitudeEmbedding(f, wires=wires,pad_with=0,normalize=True)\n",
    "    return qml.state()\n",
    "X_norm = X.values\n",
    "X_quantum = circuit(X_norm)\n",
    "X_real = np.real(np.array(X_quantum))\n",
    "# Create column names based on index\n",
    "column_names = [f'feature_{i}' for i in range(X_real.shape[1])]\n",
    "X_real = pd.DataFrame(X_real, columns=column_names)\n",
    "\n",
    "\n"
   ]
  },
  {
   "cell_type": "code",
   "execution_count": null,
   "metadata": {},
   "outputs": [],
   "source": [
    "# import pennylane as qml\n",
    "# from pennylane import numpy as np\n",
    "\n",
    "# N = X.shape[1]\n",
    "# wires = range(N)\n",
    "# dev = qml.device(\"default.qubit\", wires)\n",
    "\n",
    "# @qml.qnode(dev)\n",
    "# def circuit(val_list):\n",
    "#     qml.AngleEmbedding(val_list, wires, rotation=\"Y\")\n",
    "#     return [qml.expval(qml.PauliZ(w)) for w in wires]\n",
    "\n",
    "# # Function to process DataFrame through quantum circuit\n",
    "# def quantum_transform(df):\n",
    "#     # Convert DataFrame to numpy array\n",
    "#     values = df.values\n",
    "#     # Process each row through quantum circuit\n",
    "#     quantum_features = np.array([circuit(row) for row in values])\n",
    "#     # Remove tensor properties and convert to regular numpy array\n",
    "#     quantum_features = np.array(quantum_features).astype(float)\n",
    "#     return quantum_features\n",
    "# # Transform your data\n",
    "# X_real = quantum_transform(X)\n",
    "\n",
    "# quantum_cols = [f'quantum_state_{i}' for i in range(len(X_real[0]))]\n",
    "# X_real = pd.DataFrame(X_real, columns=quantum_cols)\n",
    "# X_real.head()\n"
   ]
  },
  {
   "cell_type": "code",
   "execution_count": 10,
   "metadata": {},
   "outputs": [
    {
     "data": {
      "text/plain": [
       "(397595, 8)"
      ]
     },
     "execution_count": 10,
     "metadata": {},
     "output_type": "execute_result"
    }
   ],
   "source": [
    "X_real.shape"
   ]
  },
  {
   "cell_type": "code",
   "execution_count": 11,
   "metadata": {},
   "outputs": [],
   "source": [
    "X_train, X_test, y_train, y_test = train_test_split(X_real, y, test_size=0.3, random_state=42)  "
   ]
  },
  {
   "cell_type": "code",
   "execution_count": 12,
   "metadata": {},
   "outputs": [
    {
     "name": "stdout",
     "output_type": "stream",
     "text": [
      "Evaluating model: KNN\n",
      "Evaluating model: Random Forest\n",
      "Evaluating model: AdaBoost\n"
     ]
    },
    {
     "name": "stderr",
     "output_type": "stream",
     "text": [
      "c:\\Ananconda\\envs\\qml\\lib\\site-packages\\sklearn\\ensemble\\_weight_boosting.py:527: FutureWarning: The SAMME.R algorithm (the default) is deprecated and will be removed in 1.6. Use the SAMME algorithm to circumvent this warning.\n",
      "  warnings.warn(\n"
     ]
    },
    {
     "name": "stdout",
     "output_type": "stream",
     "text": [
      "Evaluating model: Extra Trees\n",
      "Evaluating model: XGBoost\n",
      "Evaluating model: LightGBM\n",
      "[LightGBM] [Info] Number of positive: 3640, number of negative: 274676\n",
      "[LightGBM] [Info] Auto-choosing row-wise multi-threading, the overhead of testing was 0.001508 seconds.\n",
      "You can set `force_row_wise=true` to remove the overhead.\n",
      "And if memory is not enough, you can set `force_col_wise=true`.\n",
      "[LightGBM] [Info] Total Bins 1530\n",
      "[LightGBM] [Info] Number of data points in the train set: 278316, number of used features: 6\n",
      "[LightGBM] [Info] [binary:BoostFromScore]: pavg=0.013079 -> initscore=-4.323609\n",
      "[LightGBM] [Info] Start training from score -4.323609\n",
      "Evaluating model: Gradient Boosting\n",
      "                        Model  Accuracy  Precision    Recall  F1 Score  \\\n",
      "0        KNeighborsClassifier  0.999254   0.983766  0.959468  0.971465   \n",
      "1      RandomForestClassifier  0.999899   0.997460  0.994934  0.996195   \n",
      "2          AdaBoostClassifier  0.998650   0.955071  0.942369  0.948677   \n",
      "3        ExtraTreesClassifier  0.999883   1.000000  0.991134  0.995547   \n",
      "4               XGBClassifier  0.999857   0.992434  0.996833  0.994629   \n",
      "5              LGBMClassifier  0.999883   0.996195  0.994934  0.995564   \n",
      "6  GradientBoostingClassifier  0.999422   0.987726  0.968334  0.977934   \n",
      "\n",
      "    ROC AUC  Cohen’s Kappa  Running Time (s)  \n",
      "0  0.995520       0.971087          6.550960  \n",
      "1  0.999999       0.996144         21.969957  \n",
      "2  0.999893       0.947993         21.219768  \n",
      "3  0.999999       0.995488          7.423193  \n",
      "4  0.999997       0.994557          0.717973  \n",
      "5  0.999998       0.995505          0.726476  \n",
      "6  0.999962       0.977641         68.040630  \n"
     ]
    }
   ],
   "source": [
    "import time\n",
    "import pandas as pd\n",
    "import numpy as np\n",
    "from sklearn.ensemble import RandomForestClassifier, AdaBoostClassifier, ExtraTreesClassifier, GradientBoostingClassifier\n",
    "from sklearn.svm import SVC\n",
    "from sklearn.neighbors import KNeighborsClassifier\n",
    "from sklearn.metrics import accuracy_score, classification_report, confusion_matrix, precision_score, recall_score, f1_score, roc_auc_score, cohen_kappa_score\n",
    "from sklearn.model_selection import train_test_split\n",
    "import xgboost as xgb\n",
    "import lightgbm as lgb\n",
    "import seaborn as sns\n",
    "import matplotlib.pyplot as plt\n",
    "# Create a dictionary of models to evaluate\n",
    "models = {\n",
    "    # \"SVM (Linear)\": SVC(kernel=\"linear\", random_state=42),\n",
    "    # \"SVM (Poly)\": SVC(kernel=\"poly\", random_state=42),\n",
    "    # \"SVM (RBF)\": SVC(kernel=\"rbf\", random_state=42),\n",
    "    # \"SVM (Sigmoid)\": SVC(kernel=\"sigmoid\", random_state=42),\n",
    "    \"KNN\": KNeighborsClassifier(),\n",
    "    \"Random Forest\": RandomForestClassifier(n_estimators=100, random_state=42),\n",
    "    \"AdaBoost\": AdaBoostClassifier(random_state=42),\n",
    "    \"Extra Trees\": ExtraTreesClassifier(n_estimators=100, random_state=42),\n",
    "    \"XGBoost\": xgb.XGBClassifier(random_state=42),\n",
    "    \"LightGBM\": lgb.LGBMClassifier(random_state=42),\n",
    "    \"Gradient Boosting\": GradientBoostingClassifier(random_state=42)\n",
    "}\n",
    "\n",
    "# Function to calculate metrics\n",
    "def evaluate_model(model, X_train, X_test, y_train, y_test):\n",
    "    start_time = time.time()  # Track model fitting time\n",
    "    \n",
    "    # Train the model\n",
    "    model.fit(X_train, y_train)\n",
    "    \n",
    "    # Predict\n",
    "    y_pred = model.predict(X_test)\n",
    "    y_proba = model.predict_proba(X_test)[:, 1] if hasattr(model, 'predict_proba') else None\n",
    "\n",
    "    # Get performance metrics\n",
    "    accuracy = accuracy_score(y_test, y_pred)\n",
    "    precision = precision_score(y_test, y_pred)\n",
    "    recall = recall_score(y_test, y_pred)\n",
    "    f1 = f1_score(y_test, y_pred)\n",
    "    roc_auc = roc_auc_score(y_test, y_proba) if y_proba is not None else None\n",
    "    cohen_kappa = cohen_kappa_score(y_test, y_pred)\n",
    "    \n",
    "    # Running time\n",
    "    end_time = time.time()\n",
    "    runtime = end_time - start_time\n",
    "    \n",
    "    # Detailed classification report\n",
    "    class_report = classification_report(y_test, y_pred)\n",
    "    \n",
    "    \n",
    "    # Return all metrics\n",
    "    return {\n",
    "        \"Model\": model.__class__.__name__,\n",
    "        \"Accuracy\": accuracy,\n",
    "        \"Precision\": precision,\n",
    "        \"Recall\": recall,\n",
    "        \"F1 Score\": f1,\n",
    "        \"ROC AUC\": roc_auc,\n",
    "        \"Cohen’s Kappa\": cohen_kappa,\n",
    "        \"Running Time (s)\": runtime,\n",
    "    }\n",
    "\n",
    "# Evaluating all models and storing results\n",
    "results = []\n",
    "\n",
    "for name, model in models.items():\n",
    "    print(f\"Evaluating model: {name}\")\n",
    "    result = evaluate_model(model, X_train, X_test, y_train, y_test)\n",
    "    results.append(result)\n",
    "\n",
    "# Convert results into a DataFrame\n",
    "results_df = pd.DataFrame(results)\n",
    "\n",
    "# Display all the results\n",
    "print(results_df)"
   ]
  },
  {
   "cell_type": "code",
   "execution_count": 13,
   "metadata": {},
   "outputs": [],
   "source": [
    "# results_df.to_csv('TestbedThuJun17Flows_ang.csv', index=False)\n"
   ]
  },
  {
   "cell_type": "code",
   "execution_count": 14,
   "metadata": {},
   "outputs": [
    {
     "data": {
      "text/html": [
       "<div>\n",
       "<style scoped>\n",
       "    .dataframe tbody tr th:only-of-type {\n",
       "        vertical-align: middle;\n",
       "    }\n",
       "\n",
       "    .dataframe tbody tr th {\n",
       "        vertical-align: top;\n",
       "    }\n",
       "\n",
       "    .dataframe thead th {\n",
       "        text-align: right;\n",
       "    }\n",
       "</style>\n",
       "<table border=\"1\" class=\"dataframe\">\n",
       "  <thead>\n",
       "    <tr style=\"text-align: right;\">\n",
       "      <th></th>\n",
       "      <th>Model</th>\n",
       "      <th>Accuracy</th>\n",
       "      <th>Precision</th>\n",
       "      <th>Recall</th>\n",
       "      <th>F1 Score</th>\n",
       "      <th>ROC AUC</th>\n",
       "      <th>Cohen’s Kappa</th>\n",
       "      <th>Running Time (s)</th>\n",
       "    </tr>\n",
       "  </thead>\n",
       "  <tbody>\n",
       "    <tr>\n",
       "      <th>0</th>\n",
       "      <td>KNeighborsClassifier</td>\n",
       "      <td>0.999254</td>\n",
       "      <td>0.983766</td>\n",
       "      <td>0.959468</td>\n",
       "      <td>0.971465</td>\n",
       "      <td>0.995520</td>\n",
       "      <td>0.971087</td>\n",
       "      <td>6.550960</td>\n",
       "    </tr>\n",
       "    <tr>\n",
       "      <th>1</th>\n",
       "      <td>RandomForestClassifier</td>\n",
       "      <td>0.999899</td>\n",
       "      <td>0.997460</td>\n",
       "      <td>0.994934</td>\n",
       "      <td>0.996195</td>\n",
       "      <td>0.999999</td>\n",
       "      <td>0.996144</td>\n",
       "      <td>21.969957</td>\n",
       "    </tr>\n",
       "    <tr>\n",
       "      <th>2</th>\n",
       "      <td>AdaBoostClassifier</td>\n",
       "      <td>0.998650</td>\n",
       "      <td>0.955071</td>\n",
       "      <td>0.942369</td>\n",
       "      <td>0.948677</td>\n",
       "      <td>0.999893</td>\n",
       "      <td>0.947993</td>\n",
       "      <td>21.219768</td>\n",
       "    </tr>\n",
       "    <tr>\n",
       "      <th>3</th>\n",
       "      <td>ExtraTreesClassifier</td>\n",
       "      <td>0.999883</td>\n",
       "      <td>1.000000</td>\n",
       "      <td>0.991134</td>\n",
       "      <td>0.995547</td>\n",
       "      <td>0.999999</td>\n",
       "      <td>0.995488</td>\n",
       "      <td>7.423193</td>\n",
       "    </tr>\n",
       "    <tr>\n",
       "      <th>4</th>\n",
       "      <td>XGBClassifier</td>\n",
       "      <td>0.999857</td>\n",
       "      <td>0.992434</td>\n",
       "      <td>0.996833</td>\n",
       "      <td>0.994629</td>\n",
       "      <td>0.999997</td>\n",
       "      <td>0.994557</td>\n",
       "      <td>0.717973</td>\n",
       "    </tr>\n",
       "    <tr>\n",
       "      <th>5</th>\n",
       "      <td>LGBMClassifier</td>\n",
       "      <td>0.999883</td>\n",
       "      <td>0.996195</td>\n",
       "      <td>0.994934</td>\n",
       "      <td>0.995564</td>\n",
       "      <td>0.999998</td>\n",
       "      <td>0.995505</td>\n",
       "      <td>0.726476</td>\n",
       "    </tr>\n",
       "    <tr>\n",
       "      <th>6</th>\n",
       "      <td>GradientBoostingClassifier</td>\n",
       "      <td>0.999422</td>\n",
       "      <td>0.987726</td>\n",
       "      <td>0.968334</td>\n",
       "      <td>0.977934</td>\n",
       "      <td>0.999962</td>\n",
       "      <td>0.977641</td>\n",
       "      <td>68.040630</td>\n",
       "    </tr>\n",
       "  </tbody>\n",
       "</table>\n",
       "</div>"
      ],
      "text/plain": [
       "                        Model  Accuracy  Precision    Recall  F1 Score  \\\n",
       "0        KNeighborsClassifier  0.999254   0.983766  0.959468  0.971465   \n",
       "1      RandomForestClassifier  0.999899   0.997460  0.994934  0.996195   \n",
       "2          AdaBoostClassifier  0.998650   0.955071  0.942369  0.948677   \n",
       "3        ExtraTreesClassifier  0.999883   1.000000  0.991134  0.995547   \n",
       "4               XGBClassifier  0.999857   0.992434  0.996833  0.994629   \n",
       "5              LGBMClassifier  0.999883   0.996195  0.994934  0.995564   \n",
       "6  GradientBoostingClassifier  0.999422   0.987726  0.968334  0.977934   \n",
       "\n",
       "    ROC AUC  Cohen’s Kappa  Running Time (s)  \n",
       "0  0.995520       0.971087          6.550960  \n",
       "1  0.999999       0.996144         21.969957  \n",
       "2  0.999893       0.947993         21.219768  \n",
       "3  0.999999       0.995488          7.423193  \n",
       "4  0.999997       0.994557          0.717973  \n",
       "5  0.999998       0.995505          0.726476  \n",
       "6  0.999962       0.977641         68.040630  "
      ]
     },
     "execution_count": 14,
     "metadata": {},
     "output_type": "execute_result"
    }
   ],
   "source": [
    "results_df\n"
   ]
  },
  {
   "cell_type": "code",
   "execution_count": 15,
   "metadata": {},
   "outputs": [
    {
     "name": "stdout",
     "output_type": "stream",
     "text": [
      "{np.int64(0): np.int64(392376), np.int64(1): np.int64(5219)}\n",
      "Label\n",
      "0    392376\n",
      "1      5219\n",
      "Name: count, dtype: int64\n"
     ]
    }
   ],
   "source": [
    "import numpy as np\n",
    "\n",
    "# Method 1: Using numpy unique with return_counts\n",
    "unique_values, counts = np.unique(y, return_counts=True)\n",
    "print(dict(zip(unique_values, counts)))\n",
    "\n",
    "# Method 2: Using value_counts if y is a pandas series\n",
    "print(pd.Series(y).value_counts())\n",
    "\n"
   ]
  },
  {
   "cell_type": "code",
   "execution_count": null,
   "metadata": {},
   "outputs": [],
   "source": []
  }
 ],
 "metadata": {
  "kernelspec": {
   "display_name": "qml",
   "language": "python",
   "name": "python3"
  },
  "language_info": {
   "codemirror_mode": {
    "name": "ipython",
    "version": 3
   },
   "file_extension": ".py",
   "mimetype": "text/x-python",
   "name": "python",
   "nbconvert_exporter": "python",
   "pygments_lexer": "ipython3",
   "version": "3.9.20"
  }
 },
 "nbformat": 4,
 "nbformat_minor": 2
}
